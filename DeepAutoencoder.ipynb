{
  "nbformat": 4,
  "nbformat_minor": 0,
  "metadata": {
    "colab": {
      "name": "DeepAutoencoder.ipynb",
      "provenance": [],
      "collapsed_sections": [],
      "authorship_tag": "ABX9TyOTIcXC36fWndaCvGSBZygK"
    },
    "kernelspec": {
      "name": "python3",
      "display_name": "Python 3"
    }
  },
  "cells": [
    {
      "cell_type": "code",
      "metadata": {
        "id": "_NO0pfGr_dm5",
        "colab_type": "code",
        "colab": {}
      },
      "source": [
        "import tensorflow as tf\n",
        "import numpy as np\n",
        "from tensorflow.keras.datasets import mnist\n",
        "from matplotlib import pyplot as plt\n",
        "from tensorflow.keras import regularizers\n",
        "from tensorflow.keras.models import Sequential, Model\n",
        "from tensorflow.keras.layers import Dense, Input\n",
        "from tensorflow.keras.callbacks import EarlyStopping, LambdaCallback\n",
        "from tensorflow.keras.utils import to_categorical\n"
      ],
      "execution_count": 0,
      "outputs": []
    },
    {
      "cell_type": "code",
      "metadata": {
        "id": "T6PI8yJu_tSY",
        "colab_type": "code",
        "outputId": "f55f1661-d006-40ee-da68-e635ce1c1faa",
        "colab": {
          "base_uri": "https://localhost:8080/",
          "height": 52
        }
      },
      "source": [
        "(x_train, y_train), (x_test, y_test) = mnist.load_data()\n",
        "x_train = x_train.astype('float')/255.0\n",
        "x_test = x_test.astype('float')/255.0\n",
        "\n",
        "x_train = np.reshape(x_train, (60000, 784))\n",
        "x_test = np.reshape(x_test, (10000, 784))\n"
      ],
      "execution_count": 0,
      "outputs": [
        {
          "output_type": "stream",
          "text": [
            "Downloading data from https://storage.googleapis.com/tensorflow/tf-keras-datasets/mnist.npz\n",
            "11493376/11490434 [==============================] - 0s 0us/step\n"
          ],
          "name": "stdout"
        }
      ]
    },
    {
      "cell_type": "code",
      "metadata": {
        "id": "yO6fl5j2-sGJ",
        "colab_type": "code",
        "colab": {}
      },
      "source": [
        "x_train_noisy = x_train + np.random.rand(60000, 784) * 0.9\n",
        "x_test_noisy = x_test + np.random.rand(10000, 784) * 0.9\n",
        "x_train_noisy = np.clip(x_train_noisy, 0. , 1.)\n",
        "x_test_noisy = np.clip(x_test_noisy, 0. , 1.)"
      ],
      "execution_count": 0,
      "outputs": []
    },
    {
      "cell_type": "code",
      "metadata": {
        "id": "ggCAtUbe-sJE",
        "colab_type": "code",
        "colab": {}
      },
      "source": [
        "def plot(x, p, labels = False):\n",
        "    plt.figure(figsize = (30  , 10))\n",
        "    for i in range(1, 10):\n",
        "        plt.subplot(1, 10, i+1)\n",
        "        plt.imshow(x[i+20].reshape(28,28), cmap = 'binary')\n",
        "        plt.xticks([])\n",
        "        plt.yticks([])\n",
        "        if labels:\n",
        "          plt.xlabel(np.argmax(p[i]))\n",
        "    plt.show()"
      ],
      "execution_count": 0,
      "outputs": []
    },
    {
      "cell_type": "code",
      "metadata": {
        "id": "tCC8gA_H-sLw",
        "colab_type": "code",
        "colab": {}
      },
      "source": [
        "plot(x_train, None)"
      ],
      "execution_count": 0,
      "outputs": []
    },
    {
      "cell_type": "code",
      "metadata": {
        "id": "tlDpBf4--sN-",
        "colab_type": "code",
        "colab": {}
      },
      "source": [
        "plot(x_train_noisy, None)"
      ],
      "execution_count": 0,
      "outputs": []
    },
    {
      "cell_type": "code",
      "metadata": {
        "id": "Mwvf68XT-sQw",
        "colab_type": "code",
        "colab": {}
      },
      "source": [
        "class myCallback(tf.keras.callbacks.Callback):\n",
        "    def on_epoch_end(self, epoch, logs = {}):\n",
        "        if (logs.get('accuracy') > 0.97):\n",
        "            print(\"\\n Achieved more than 97% accuracy, Hence terminating training!!!\")\n",
        "            self.model.stop_training = True\n",
        "callbacks = myCallback()"
      ],
      "execution_count": 0,
      "outputs": []
    },
    {
      "cell_type": "code",
      "metadata": {
        "id": "hNr5-_OS-sVk",
        "colab_type": "code",
        "colab": {}
      },
      "source": [
        "classifier = Sequential([\n",
        "    Dense(256, activation = 'relu', input_shape = (784,)),\n",
        "    Dense(256, activation = 'relu'),\n",
        "    Dense(10, activation = 'softmax')\n",
        "])\n",
        "\n",
        "classifier.compile(\n",
        "    optimizer = 'adam',\n",
        "    loss = 'sparse_categorical_crossentropy',\n",
        "    metrics = ['accuracy']\n",
        ")\n",
        "classifier.summary()"
      ],
      "execution_count": 0,
      "outputs": []
    },
    {
      "cell_type": "code",
      "metadata": {
        "id": "pRLjx4mO-saa",
        "colab_type": "code",
        "colab": {}
      },
      "source": [
        "classifier.fit(x_train, y_train, epochs = 20, callbacks = [callbacks])"
      ],
      "execution_count": 0,
      "outputs": []
    },
    {
      "cell_type": "code",
      "metadata": {
        "id": "Q1klTiro-sdB",
        "colab_type": "code",
        "colab": {}
      },
      "source": [
        "loss, acc = classifier.evaluate(x_train, y_train)\n",
        "print('Training accuracy:{}\\n'.format(acc))\n",
        "loss, acc = classifier.evaluate(x_test, y_test)\n",
        "print('Test accuracy:{}'.format(acc))"
      ],
      "execution_count": 0,
      "outputs": []
    },
    {
      "cell_type": "code",
      "metadata": {
        "id": "LO8QffOtBZ08",
        "colab_type": "code",
        "colab": {}
      },
      "source": [
        "print('Evaluating classifier on noisy images')\n",
        "loss, acc = classifier.evaluate(x_train_noisy, y_train)\n",
        "print('\\nTraining accuracy:{}'.format(acc))\n",
        "loss, acc = classifier.evaluate(x_test_noisy, y_test)\n",
        "print('\\nTest accuracy:{}'.format(acc))\n"
      ],
      "execution_count": 0,
      "outputs": []
    },
    {
      "cell_type": "markdown",
      "metadata": {
        "id": "uBS2kQZG_F16",
        "colab_type": "text"
      },
      "source": [
        "This is the implementation of deep autoencoder consisting of six **hidden** layers: three encoding layers and three decoding layers. More layers can be added but for this paritcular dataset, current config is sufficient."
      ]
    },
    {
      "cell_type": "code",
      "metadata": {
        "id": "oDgSEIel-sfZ",
        "colab_type": "code",
        "colab": {}
      },
      "source": [
        "input_img = Input(shape=(784,))\n",
        "encoded = Dense(128, activation='relu')(input_img)\n",
        "encoded = Dense(64, activation='relu')(encoded)\n",
        "encoded = Dense(32, activation='relu')(encoded)\n",
        "decoded = Dense(64, activation='relu')(encoded)\n",
        "decoded = Dense(128, activation='relu')(decoded)\n",
        "decoded = Dense(784, activation='sigmoid')(decoded)\n",
        "\n",
        "autoencoder = Model(input_img, decoded)\n",
        "autoencoder.compile(optimizer='adam', loss='binary_crossentropy')"
      ],
      "execution_count": 0,
      "outputs": []
    },
    {
      "cell_type": "code",
      "metadata": {
        "id": "FsLqpmJx-sTb",
        "colab_type": "code",
        "colab": {}
      },
      "source": [
        "autoencoder.fit(x_train_noisy, \n",
        "                x_train, \n",
        "                epochs = 100, \n",
        "                batch_size = 256, \n",
        "                verbose = True, \n",
        "                validation_data = (x_test_noisy, x_test),\n",
        "                callbacks = [\n",
        "                             EarlyStopping(monitor = 'val_loss', patience = 5),\n",
        "                             LambdaCallback(on_epoch_end = lambda epoch, logs: print('Epoch {}: {}'.format(epoch, logs['val_loss'])))\n",
        "                             ]\n",
        "                )"
      ],
      "execution_count": 0,
      "outputs": []
    },
    {
      "cell_type": "code",
      "metadata": {
        "id": "4RU9RGjqBZ3t",
        "colab_type": "code",
        "colab": {}
      },
      "source": [
        "pred = autoencoder.predict(x_test_noisy)"
      ],
      "execution_count": 0,
      "outputs": []
    },
    {
      "cell_type": "code",
      "metadata": {
        "id": "rHTg7Mb6BZ6M",
        "colab_type": "code",
        "colab": {}
      },
      "source": [
        "plot(x_test_noisy, None)"
      ],
      "execution_count": 0,
      "outputs": []
    },
    {
      "cell_type": "code",
      "metadata": {
        "id": "vthjInOOBZ8y",
        "colab_type": "code",
        "colab": {}
      },
      "source": [
        "plot(pred, None)"
      ],
      "execution_count": 0,
      "outputs": []
    },
    {
      "cell_type": "markdown",
      "metadata": {
        "id": "sb59Md5qChW_",
        "colab_type": "text"
      },
      "source": [
        "Combined classifier and autoencoder model:"
      ]
    },
    {
      "cell_type": "code",
      "metadata": {
        "id": "H-eQxFqc-vPg",
        "colab_type": "code",
        "colab": {}
      },
      "source": [
        "input_img = Input(shape = (784,))\n",
        "x = autoencoderv2(input_img)\n",
        "y = classifier(x)\n",
        "\n",
        "denoise_and_classifyv2 = Model(input_img, y)"
      ],
      "execution_count": 0,
      "outputs": []
    },
    {
      "cell_type": "code",
      "metadata": {
        "id": "t-SyK2Y0CDsW",
        "colab_type": "code",
        "colab": {}
      },
      "source": [
        "predictions = denoise_and_classify(x_test_noisy)\n",
        "plot(x_test_noisy, predictions, True)"
      ],
      "execution_count": 0,
      "outputs": []
    },
    {
      "cell_type": "code",
      "metadata": {
        "id": "41BOcT7HCDu-",
        "colab_type": "code",
        "colab": {}
      },
      "source": [
        "plot(x_test, to_categorical(y_test), True)"
      ],
      "execution_count": 0,
      "outputs": []
    },
    {
      "cell_type": "code",
      "metadata": {
        "id": "r3BYondB-vSR",
        "colab_type": "code",
        "colab": {}
      },
      "source": [
        "temp2 = autoencoderv2.predict(x_test_noisy)\n",
        "acc = classifier.evaluate(temp2)\n",
        "print(acc)"
      ],
      "execution_count": 0,
      "outputs": []
    },
    {
      "cell_type": "code",
      "metadata": {
        "id": "JTjHJp4r-vU5",
        "colab_type": "code",
        "colab": {}
      },
      "source": [
        "plot(predv2, None)"
      ],
      "execution_count": 0,
      "outputs": []
    },
    {
      "cell_type": "code",
      "metadata": {
        "id": "CrctR12J-vXo",
        "colab_type": "code",
        "colab": {}
      },
      "source": [
        ""
      ],
      "execution_count": 0,
      "outputs": []
    }
  ]
}