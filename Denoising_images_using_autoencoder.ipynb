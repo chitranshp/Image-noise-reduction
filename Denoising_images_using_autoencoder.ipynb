{
  "nbformat": 4,
  "nbformat_minor": 0,
  "metadata": {
    "colab": {
      "name": "Denoising images using autoencoder.ipynb",
      "provenance": [],
      "authorship_tag": "ABX9TyNX+4RbxeLIIHlqYkkE9icR",
      "include_colab_link": true
    },
    "kernelspec": {
      "name": "python3",
      "display_name": "Python 3"
    }
  },
  "cells": [
    {
      "cell_type": "markdown",
      "metadata": {
        "id": "view-in-github",
        "colab_type": "text"
      },
      "source": [
        "<a href=\"https://colab.research.google.com/github/chitranshp/Image-noise-reduction/blob/master/Denoising_images_using_autoencoder.ipynb\" target=\"_parent\"><img src=\"https://colab.research.google.com/assets/colab-badge.svg\" alt=\"Open In Colab\"/></a>"
      ]
    },
    {
      "cell_type": "code",
      "metadata": {
        "id": "_NO0pfGr_dm5",
        "colab_type": "code",
        "colab": {}
      },
      "source": [
        "import tensorflow as tf\n",
        "import numpy as np\n",
        "from tensorflow.keras.datasets import mnist\n",
        "from matplotlib import pyplot as plt\n",
        "from tensorflow.keras import regularizers\n",
        "from tensorflow.keras.models import Sequential, Model\n",
        "from tensorflow.keras.layers import Dense, Input\n",
        "from tensorflow.keras.callbacks import EarlyStopping, LambdaCallback\n",
        "from tensorflow.keras.utils import to_categorical\n"
      ],
      "execution_count": 0,
      "outputs": []
    },
    {
      "cell_type": "code",
      "metadata": {
        "id": "T6PI8yJu_tSY",
        "colab_type": "code",
        "colab": {
          "base_uri": "https://localhost:8080/",
          "height": 52
        },
        "outputId": "f55f1661-d006-40ee-da68-e635ce1c1faa"
      },
      "source": [
        "(x_train, y_train), (x_test, y_test) = mnist.load_data()\n",
        "x_train = x_train.astype('float')/255.0\n",
        "x_test = x_test.astype('float')/255.0\n",
        "\n",
        "x_train = np.reshape(x_train, (60000, 784))\n",
        "x_test = np.reshape(x_test, (10000, 784))\n"
      ],
      "execution_count": 2,
      "outputs": [
        {
          "output_type": "stream",
          "text": [
            "Downloading data from https://storage.googleapis.com/tensorflow/tf-keras-datasets/mnist.npz\n",
            "11493376/11490434 [==============================] - 0s 0us/step\n"
          ],
          "name": "stdout"
        }
      ]
    },
    {
      "cell_type": "code",
      "metadata": {
        "id": "9cU1p1R8_0MZ",
        "colab_type": "code",
        "colab": {}
      },
      "source": [
        "x_train_noisy = x_train + np.random.rand(60000, 784) * 0.9\n",
        "x_test_noisy = x_test + np.random.rand(10000, 784) * 0.9\n",
        "x_train_noisy = np.clip(x_train_noisy, 0. , 1.)\n",
        "x_test_noisy = np.clip(x_test_noisy, 0. , 1.)"
      ],
      "execution_count": 0,
      "outputs": []
    },
    {
      "cell_type": "code",
      "metadata": {
        "id": "leQY19cNINWc",
        "colab_type": "code",
        "colab": {}
      },
      "source": [
        "def plot(x, p, labels = False):\n",
        "    plt.figure(figsize = (20, 2))\n",
        "    for i in range(1, 7):\n",
        "        plt.subplot(1, 7, i+1)\n",
        "        plt.imshow(x[i].reshape(28,28), cmap = 'binary')\n",
        "        plt.xticks([])\n",
        "        plt.yticks([])\n",
        "        if labels:\n",
        "          plt.xlabel(np.argmax(p[i]))\n",
        "    plt.show()"
      ],
      "execution_count": 0,
      "outputs": []
    },
    {
      "cell_type": "code",
      "metadata": {
        "id": "gIDloWPpLsGO",
        "colab_type": "code",
        "colab": {
          "base_uri": "https://localhost:8080/",
          "height": 142
        },
        "outputId": "b6afa2b2-ed37-4e36-a787-20c7fc949124"
      },
      "source": [
        "plot(x_train, None)"
      ],
      "execution_count": 71,
      "outputs": [
        {
          "output_type": "display_data",
          "data": {
            "image/png": "[encoded data removed]",
            "text/plain": [
              "<Figure size 1440x144 with 6 Axes>"
            ]
          },
          "metadata": {
            "tags": []
          }
        }
      ]
    },
    {
      "cell_type": "code",
      "metadata": {
        "id": "SD0NDXOhN50U",
        "colab_type": "code",
        "colab": {
          "base_uri": "https://localhost:8080/",
          "height": 142
        },
        "outputId": "aeae7f4c-7b7a-41c4-f6dd-ce2aa13d5583"
      },
      "source": [
        "plot(x_train_noisy, None)"
      ],
      "execution_count": 72,
      "outputs": [
        {
          "output_type": "display_data",
          "data": {
            "image/png": "[encoded data removed]",
            "text/plain": [
              "<Figure size 1440x144 with 6 Axes>"
            ]
          },
          "metadata": {
            "tags": []
          }
        }
      ]
    },
    {
      "cell_type": "code",
      "metadata": {
        "id": "PZbEGDsjSBgn",
        "colab_type": "code",
        "colab": {}
      },
      "source": [
        "class myCallback(tf.keras.callbacks.Callback):\n",
        "    def on_epoch_end(self, epoch, logs = {}):\n",
        "        if (logs.get('accuracy') > 0.97):\n",
        "            print(\"\\n Achieved more than 97% accuracy, Hence terminating training!!!\")\n",
        "            self.model.stop_training = True\n",
        "callbacks = myCallback()"
      ],
      "execution_count": 0,
      "outputs": []
    },
    {
      "cell_type": "code",
      "metadata": {
        "id": "rZq7U9IKOI37",
        "colab_type": "code",
        "colab": {
          "base_uri": "https://localhost:8080/",
          "height": 260
        },
        "outputId": "60593ab5-7872-4ba5-9319-6ed4020d01e4"
      },
      "source": [
        "classifier = Sequential([\n",
        "    Dense(256, activation = 'relu', input_shape = (784,)),\n",
        "    Dense(256, activation = 'relu'),\n",
        "    Dense(10, activation = 'softmax')\n",
        "])\n",
        "\n",
        "classifier.compile(\n",
        "    optimizer = 'adam',\n",
        "    loss = 'sparse_categorical_crossentropy',\n",
        "    metrics = ['accuracy']\n",
        ")\n",
        "classifier.summary()"
      ],
      "execution_count": 8,
      "outputs": [
        {
          "output_type": "stream",
          "text": [
            "Model: \"sequential\"\n",
            "_________________________________________________________________\n",
            "Layer (type)                 Output Shape              Param #   \n",
            "=================================================================\n",
            "dense (Dense)                (None, 256)               200960    \n",
            "_________________________________________________________________\n",
            "dense_1 (Dense)              (None, 256)               65792     \n",
            "_________________________________________________________________\n",
            "dense_2 (Dense)              (None, 10)                2570      \n",
            "=================================================================\n",
            "Total params: 269,322\n",
            "Trainable params: 269,322\n",
            "Non-trainable params: 0\n",
            "_________________________________________________________________\n"
          ],
          "name": "stdout"
        }
      ]
    },
    {
      "cell_type": "code",
      "metadata": {
        "id": "njJzWHDMTMEV",
        "colab_type": "code",
        "colab": {
          "base_uri": "https://localhost:8080/",
          "height": 138
        },
        "outputId": "e12899ce-fdff-4160-b1de-540ffac514ba"
      },
      "source": [
        "classifier.fit(x_train, y_train, epochs = 20, callbacks = [callbacks])"
      ],
      "execution_count": 9,
      "outputs": [
        {
          "output_type": "stream",
          "text": [
            "Epoch 1/20\n",
            "1875/1875 [==============================] - 5s 3ms/step - loss: 0.2033 - accuracy: 0.9386\n",
            "Epoch 2/20\n",
            "1875/1875 [==============================] - ETA: 0s - loss: 0.0838 - accuracy: 0.9747\n",
            " Achieved more than 97% accuracy, Hence terminating training!!!\n",
            "1875/1875 [==============================] - 5s 3ms/step - loss: 0.0838 - accuracy: 0.9747\n"
          ],
          "name": "stdout"
        },
        {
          "output_type": "execute_result",
          "data": {
            "text/plain": [
              "<tensorflow.python.keras.callbacks.History at 0x7f3535e394e0>"
            ]
          },
          "metadata": {
            "tags": []
          },
          "execution_count": 9
        }
      ]
    },
    {
      "cell_type": "code",
      "metadata": {
        "id": "CE1-aYqcT4wJ",
        "colab_type": "code",
        "colab": {
          "base_uri": "https://localhost:8080/",
          "height": 104
        },
        "outputId": "66bef21c-615f-40c6-ea6c-ad23c9571a33"
      },
      "source": [
        "loss, acc = classifier.evaluate(x_train, y_train)\n",
        "print('Training accuracy:{}\\n'.format(acc))\n",
        "loss, acc = classifier.evaluate(x_test, y_test)\n",
        "print('Test accuracy:{}'.format(acc))"
      ],
      "execution_count": 10,
      "outputs": [
        {
          "output_type": "stream",
          "text": [
            "1875/1875 [==============================] - 3s 1ms/step - loss: 0.0528 - accuracy: 0.9835\n",
            "Training accuracy:0.9835000038146973\n",
            "\n",
            "313/313 [==============================] - 1s 2ms/step - loss: 0.0822 - accuracy: 0.9746\n",
            "Test accuracy:0.9746000170707703\n"
          ],
          "name": "stdout"
        }
      ]
    },
    {
      "cell_type": "code",
      "metadata": {
        "id": "yl8nBlrKVNr6",
        "colab_type": "code",
        "colab": {
          "base_uri": "https://localhost:8080/",
          "height": 138
        },
        "outputId": "9962c0c0-4cfb-4d8e-ee21-22d43cbfca49"
      },
      "source": [
        "print('Evaluating classifier on noisy images')\n",
        "loss, acc = classifier.evaluate(x_train_noisy, y_train)\n",
        "print('\\nTraining accuracy:{}'.format(acc))\n",
        "loss, acc = classifier.evaluate(x_test_noisy, y_test)\n",
        "print('\\nTest accuracy:{}'.format(acc))\n"
      ],
      "execution_count": 11,
      "outputs": [
        {
          "output_type": "stream",
          "text": [
            "Evaluating classifier on noisy images\n",
            "1875/1875 [==============================] - 3s 1ms/step - loss: 3.0401 - accuracy: 0.2676\n",
            "\n",
            "Training accuracy:0.26759999990463257\n",
            "313/313 [==============================] - 0s 2ms/step - loss: 3.0560 - accuracy: 0.2742\n",
            "\n",
            "Test accuracy:0.2741999924182892\n"
          ],
          "name": "stdout"
        }
      ]
    },
    {
      "cell_type": "code",
      "metadata": {
        "id": "RfxFPVb3VoYm",
        "colab_type": "code",
        "colab": {}
      },
      "source": [
        "input_image = Input(shape = (784,))\n",
        "encoded = Dense(64, activation = 'relu')(input_image)\n",
        "decoded = Dense(784, activation = 'sigmoid')(encoded)\n",
        "\n",
        "autoencoder = Model(input_image, decoded)\n",
        "autoencoder.compile(loss = 'binary_crossentropy', optimizer = 'adam')"
      ],
      "execution_count": 0,
      "outputs": []
    },
    {
      "cell_type": "code",
      "metadata": {
        "id": "XU9WfDvUcQ3b",
        "colab_type": "code",
        "outputId": "34f860cb-2093-4e10-c0c4-e1d8344b6a8d",
        "colab": {
          "base_uri": "https://localhost:8080/",
          "height": 884
        }
      },
      "source": [
        "autoencoder.fit(x_train_noisy, \n",
        "                x_train, \n",
        "                epochs = 100, \n",
        "                batch_size = 256, \n",
        "                verbose = False, \n",
        "                validation_split = 0.2,\n",
        "                callbacks = [\n",
        "                             EarlyStopping(monitor = 'val_loss', patience = 5),\n",
        "                             LambdaCallback(on_epoch_end = lambda epoch, logs: print('Validation loss: {}'.format(logs['val_loss'])))\n",
        "                             ]\n",
        "                )"
      ],
      "execution_count": 13,
      "outputs": [
        {
          "output_type": "stream",
          "text": [
            "Validation loss: 0.2242397516965866\n",
            "Validation loss: 0.18122756481170654\n",
            "Validation loss: 0.1618424654006958\n",
            "Validation loss: 0.14887765049934387\n",
            "Validation loss: 0.1394825577735901\n",
            "Validation loss: 0.13229553401470184\n",
            "Validation loss: 0.1267513483762741\n",
            "Validation loss: 0.12235196679830551\n",
            "Validation loss: 0.11921891570091248\n",
            "Validation loss: 0.11656982451677322\n",
            "Validation loss: 0.11442679166793823\n",
            "Validation loss: 0.11277514696121216\n",
            "Validation loss: 0.1115431860089302\n",
            "Validation loss: 0.11039330065250397\n",
            "Validation loss: 0.10939967632293701\n",
            "Validation loss: 0.10881290584802628\n",
            "Validation loss: 0.10805764049291611\n",
            "Validation loss: 0.10760647803544998\n",
            "Validation loss: 0.10716120153665543\n",
            "Validation loss: 0.10701904445886612\n",
            "Validation loss: 0.10679370909929276\n",
            "Validation loss: 0.10641182214021683\n",
            "Validation loss: 0.10631716251373291\n",
            "Validation loss: 0.10620897263288498\n",
            "Validation loss: 0.10611160099506378\n",
            "Validation loss: 0.10613483935594559\n",
            "Validation loss: 0.10585099458694458\n",
            "Validation loss: 0.10579094290733337\n",
            "Validation loss: 0.1057916060090065\n",
            "Validation loss: 0.1056966781616211\n",
            "Validation loss: 0.10561253875494003\n",
            "Validation loss: 0.10557098686695099\n",
            "Validation loss: 0.10571277886629105\n",
            "Validation loss: 0.10567649453878403\n",
            "Validation loss: 0.10546749830245972\n",
            "Validation loss: 0.1054166629910469\n",
            "Validation loss: 0.1053934395313263\n",
            "Validation loss: 0.10546380281448364\n",
            "Validation loss: 0.10537844896316528\n",
            "Validation loss: 0.1053895503282547\n",
            "Validation loss: 0.10523088276386261\n",
            "Validation loss: 0.10531120002269745\n",
            "Validation loss: 0.10536251962184906\n",
            "Validation loss: 0.1051357090473175\n",
            "Validation loss: 0.1052330732345581\n",
            "Validation loss: 0.10522215813398361\n",
            "Validation loss: 0.10523274540901184\n",
            "Validation loss: 0.10515096038579941\n",
            "Validation loss: 0.10517257452011108\n"
          ],
          "name": "stdout"
        },
        {
          "output_type": "execute_result",
          "data": {
            "text/plain": [
              "<tensorflow.python.keras.callbacks.History at 0x7f35326a4f60>"
            ]
          },
          "metadata": {
            "tags": []
          },
          "execution_count": 13
        }
      ]
    },
    {
      "cell_type": "code",
      "metadata": {
        "id": "lSNSKxYskIai",
        "colab_type": "code",
        "colab": {}
      },
      "source": [
        "pred = autoencoder.predict(x_test_noisy)"
      ],
      "execution_count": 0,
      "outputs": []
    },
    {
      "cell_type": "code",
      "metadata": {
        "id": "i9jlN5FelMby",
        "colab_type": "code",
        "colab": {
          "base_uri": "https://localhost:8080/",
          "height": 142
        },
        "outputId": "28de6801-8fc8-45f9-e930-892ecb77a50b"
      },
      "source": [
        "plot(x_test_noisy, None)"
      ],
      "execution_count": 73,
      "outputs": [
        {
          "output_type": "display_data",
          "data": {
            "image/png": "[encoded data removed]",
            "text/plain": [
              "<Figure size 1440x144 with 6 Axes>"
            ]
          },
          "metadata": {
            "tags": []
          }
        }
      ]
    },
    {
      "cell_type": "code",
      "metadata": {
        "id": "qVlLcgXGlO4D",
        "colab_type": "code",
        "colab": {
          "base_uri": "https://localhost:8080/",
          "height": 142
        },
        "outputId": "c65e2de1-d70a-4704-e25c-50de42927ec8"
      },
      "source": [
        "plot(pred, None)"
      ],
      "execution_count": 74,
      "outputs": [
        {
          "output_type": "display_data",
          "data": {
            "image/png": "[encoded data removed]",
            "text/plain": [
              "<Figure size 1440x144 with 6 Axes>"
            ]
          },
          "metadata": {
            "tags": []
          }
        }
      ]
    },
    {
      "cell_type": "code",
      "metadata": {
        "id": "E1Ugr1dRlVFY",
        "colab_type": "code",
        "colab": {
          "base_uri": "https://localhost:8080/",
          "height": 34
        },
        "outputId": "9b822fda-510d-4dab-9dea-d794e1cae1e6"
      },
      "source": [
        "acc = classifier.evaluate(pred, y_test)"
      ],
      "execution_count": 17,
      "outputs": [
        {
          "output_type": "stream",
          "text": [
            "313/313 [==============================] - 0s 2ms/step - loss: 0.1554 - accuracy: 0.9515\n"
          ],
          "name": "stdout"
        }
      ]
    },
    {
      "cell_type": "markdown",
      "metadata": {
        "id": "LMQBuTw0r9Rq",
        "colab_type": "text"
      },
      "source": [
        "Combining above two models into a single model named denoise_and_classify "
      ]
    },
    {
      "cell_type": "code",
      "metadata": {
        "id": "gx0mrqQumGKp",
        "colab_type": "code",
        "colab": {}
      },
      "source": [
        "input_image = Input(shape = (784,))\n",
        "x = autoencoder(input_image)\n",
        "y = classifier(x)\n",
        "\n",
        "denoise_and_classify = Model(input_image, y)"
      ],
      "execution_count": 0,
      "outputs": []
    },
    {
      "cell_type": "code",
      "metadata": {
        "id": "jfIdkuBirvkp",
        "colab_type": "code",
        "colab": {
          "base_uri": "https://localhost:8080/",
          "height": 154
        },
        "outputId": "915b05b7-e7a9-4c06-c3ac-6d2e0a6e92e8"
      },
      "source": [
        "predictions = denoise_and_classify(x_test_noisy)\n",
        "plot(x_test_noisy, predictions, True)"
      ],
      "execution_count": 75,
      "outputs": [
        {
          "output_type": "display_data",
          "data": {
            "image/png": "[encoded data removed]",
            "text/plain": [
              "<Figure size 1440x144 with 6 Axes>"
            ]
          },
          "metadata": {
            "tags": []
          }
        }
      ]
    },
    {
      "cell_type": "code",
      "metadata": {
        "id": "d_5d88qCsidO",
        "colab_type": "code",
        "colab": {
          "base_uri": "https://localhost:8080/",
          "height": 154
        },
        "outputId": "fea984c0-b7c1-4c05-80fe-501b89e5ee1a"
      },
      "source": [
        "plot(x_test, to_categorical(y_test), True)"
      ],
      "execution_count": 76,
      "outputs": [
        {
          "output_type": "display_data",
          "data": {
            "image/png": "[encoded data removed]",
            "text/plain": [
              "<Figure size 1440x144 with 6 Axes>"
            ]
          },
          "metadata": {
            "tags": []
          }
        }
      ]
    },
    {
      "cell_type": "markdown",
      "metadata": {
        "id": "B6aoYhkBtUb3",
        "colab_type": "text"
      },
      "source": [
        "We can see that model has classified most of the images correctly. But since we have used a simple autoencoder, there are some misclassifications. To improve it we can use one of the following methods:\n",
        "\n",
        "\n",
        "*   Applying a **sparsity constraint** on the autoencoder\n",
        "*   **Deeper** autoencoder\n",
        "*   **Convolutional** autoencoder (Preferred choice) \n",
        "*   **Variational** autoencoder (This is a newer ***generative model*** and still research work is being done on it)\n",
        "\n",
        "\n",
        "\n"
      ]
    },
    {
      "cell_type": "markdown",
      "metadata": {
        "id": "KfIHQDRy3zUb",
        "colab_type": "text"
      },
      "source": [
        "# **Applying sparsity constraint**"
      ]
    },
    {
      "cell_type": "markdown",
      "metadata": {
        "id": "XsJJrFZG9GtO",
        "colab_type": "text"
      },
      "source": [
        "In this model, we will apply l1 regualrization  on the encoding layer which will act as a sparsity constraint. This is slightly more powerful than the simple autoencoder."
      ]
    },
    {
      "cell_type": "code",
      "metadata": {
        "id": "7wUwxGD74Dg_",
        "colab_type": "code",
        "colab": {}
      },
      "source": [
        "input_image = Input(shape = (784,))\n",
        "encodedv1 = Dense(64, activation = 'relu')(input_image)\n",
        "decodedv1 = Dense(784,  activity_regularizer=regularizers.l1(10e-5), activation = 'sigmoid')(encodedv1)\n",
        "\n",
        "autoencoderv1 = Model(input_image, decodedv1)\n",
        "autoencoderv1.compile(loss = 'binary_crossentropy', optimizer = 'adam')"
      ],
      "execution_count": 0,
      "outputs": []
    },
    {
      "cell_type": "code",
      "metadata": {
        "id": "f_PJ9HTZ4Dj1",
        "colab_type": "code",
        "colab": {
          "base_uri": "https://localhost:8080/",
          "height": 693
        },
        "outputId": "28751a7b-7953-4b5a-97d8-80acac3f2b40"
      },
      "source": [
        "autoencoderv1.fit(x_train_noisy, \n",
        "                x_train, \n",
        "                epochs = 100, \n",
        "                batch_size = 256, \n",
        "                verbose = False, \n",
        "                validation_split = 0.2,\n",
        "                callbacks = [\n",
        "                             EarlyStopping(monitor = 'val_loss', patience = 5),\n",
        "                             LambdaCallback(on_epoch_end = lambda epoch, logs: print('Validation loss: {}'.format(logs['val_loss'])))\n",
        "                             ]\n",
        "                )"
      ],
      "execution_count": 55,
      "outputs": [
        {
          "output_type": "stream",
          "text": [
            "Validation loss: 0.24477256834506989\n",
            "Validation loss: 0.19406363368034363\n",
            "Validation loss: 0.17323486506938934\n",
            "Validation loss: 0.15941746532917023\n",
            "Validation loss: 0.1496502310037613\n",
            "Validation loss: 0.14221596717834473\n",
            "Validation loss: 0.13653860986232758\n",
            "Validation loss: 0.13231420516967773\n",
            "Validation loss: 0.12921082973480225\n",
            "Validation loss: 0.12671950459480286\n",
            "Validation loss: 0.12464515119791031\n",
            "Validation loss: 0.12298916280269623\n",
            "Validation loss: 0.12167026847600937\n",
            "Validation loss: 0.12046859413385391\n",
            "Validation loss: 0.11953043937683105\n",
            "Validation loss: 0.11883854120969772\n",
            "Validation loss: 0.11823111772537231\n",
            "Validation loss: 0.11781289428472519\n",
            "Validation loss: 0.11755070090293884\n",
            "Validation loss: 0.11716003715991974\n",
            "Validation loss: 0.11690586060285568\n",
            "Validation loss: 0.11689898371696472\n",
            "Validation loss: 0.11683273315429688\n",
            "Validation loss: 0.1165296658873558\n",
            "Validation loss: 0.11647479236125946\n",
            "Validation loss: 0.1163826584815979\n",
            "Validation loss: 0.11654946208000183\n",
            "Validation loss: 0.11646194756031036\n",
            "Validation loss: 0.11629906296730042\n",
            "Validation loss: 0.11625897139310837\n",
            "Validation loss: 0.11615809798240662\n",
            "Validation loss: 0.116254061460495\n",
            "Validation loss: 0.11601842194795609\n",
            "Validation loss: 0.11622901260852814\n",
            "Validation loss: 0.11606818437576294\n",
            "Validation loss: 0.11623986810445786\n",
            "Validation loss: 0.11607041209936142\n",
            "Validation loss: 0.11608021706342697\n"
          ],
          "name": "stdout"
        },
        {
          "output_type": "execute_result",
          "data": {
            "text/plain": [
              "<tensorflow.python.keras.callbacks.History at 0x7f3530d2cb70>"
            ]
          },
          "metadata": {
            "tags": []
          },
          "execution_count": 55
        }
      ]
    },
    {
      "cell_type": "code",
      "metadata": {
        "id": "Imcfnecr4DoW",
        "colab_type": "code",
        "colab": {}
      },
      "source": [
        "predv1 = autoencoderv1.predict(x_test_noisy)"
      ],
      "execution_count": 0,
      "outputs": []
    },
    {
      "cell_type": "code",
      "metadata": {
        "id": "ObP32eYU4DrV",
        "colab_type": "code",
        "colab": {
          "base_uri": "https://localhost:8080/",
          "height": 142
        },
        "outputId": "abbe58c3-3222-473b-b3f9-2a8b0b420194"
      },
      "source": [
        "plot(x_test_noisy, None)"
      ],
      "execution_count": 77,
      "outputs": [
        {
          "output_type": "display_data",
          "data": {
            "image/png": "[encoded data removed]",
            "text/plain": [
              "<Figure size 1440x144 with 6 Axes>"
            ]
          },
          "metadata": {
            "tags": []
          }
        }
      ]
    },
    {
      "cell_type": "code",
      "metadata": {
        "id": "3IDfCq1U4Dzu",
        "colab_type": "code",
        "colab": {
          "base_uri": "https://localhost:8080/",
          "height": 142
        },
        "outputId": "0e600712-d204-4a15-8515-1694792e5487"
      },
      "source": [
        "plot(predv1, None)"
      ],
      "execution_count": 78,
      "outputs": [
        {
          "output_type": "display_data",
          "data": {
            "image/png": "[encoded data removed]",
            "text/plain": [
              "<Figure size 1440x144 with 6 Axes>"
            ]
          },
          "metadata": {
            "tags": []
          }
        }
      ]
    },
    {
      "cell_type": "code",
      "metadata": {
        "id": "Rlnybv_U4D7l",
        "colab_type": "code",
        "colab": {
          "base_uri": "https://localhost:8080/",
          "height": 34
        },
        "outputId": "58da9a8e-0ec2-4d8c-d954-47f734ccf14d"
      },
      "source": [
        "accv1 = classifier.evaluate(predv1, y_test)\n"
      ],
      "execution_count": 59,
      "outputs": [
        {
          "output_type": "stream",
          "text": [
            "313/313 [==============================] - 1s 2ms/step - loss: 0.1600 - accuracy: 0.9508\n"
          ],
          "name": "stdout"
        }
      ]
    },
    {
      "cell_type": "code",
      "metadata": {
        "id": "lyql7X-C4D57",
        "colab_type": "code",
        "colab": {}
      },
      "source": [
        "input_image = Input(shape = (784,))\n",
        "x = autoencoderv1(input_image)\n",
        "y = classifier(x)\n",
        "\n",
        "denoise_and_classifyv1 = Model(input_image, y)"
      ],
      "execution_count": 0,
      "outputs": []
    },
    {
      "cell_type": "code",
      "metadata": {
        "id": "eRh53bzf4D37",
        "colab_type": "code",
        "colab": {
          "base_uri": "https://localhost:8080/",
          "height": 154
        },
        "outputId": "a878e084-b14c-4c4d-fbc5-94bb0e321eaa"
      },
      "source": [
        "predictionsv1 = denoise_and_classifyv1(x_test_noisy)\n",
        "plot(x_test_noisy, predictionsv1, True)"
      ],
      "execution_count": 79,
      "outputs": [
        {
          "output_type": "display_data",
          "data": {
            "image/png": "[encoded data removed]",
            "text/plain": [
              "<Figure size 1440x144 with 6 Axes>"
            ]
          },
          "metadata": {
            "tags": []
          }
        }
      ]
    },
    {
      "cell_type": "code",
      "metadata": {
        "id": "ArVMaWQ84DxB",
        "colab_type": "code",
        "colab": {
          "base_uri": "https://localhost:8080/",
          "height": 154
        },
        "outputId": "add7ec12-077b-4022-ed74-585a412bc27e"
      },
      "source": [
        "plot(x_test, to_categorical(y_test), True)"
      ],
      "execution_count": 80,
      "outputs": [
        {
          "output_type": "display_data",
          "data": {
            "image/png": "[encoded data removed]",
            "text/plain": [
              "<Figure size 1440x144 with 6 Axes>"
            ]
          },
          "metadata": {
            "tags": []
          }
        }
      ]
    },
    {
      "cell_type": "code",
      "metadata": {
        "id": "5TBlPZAE4Du_",
        "colab_type": "code",
        "colab": {}
      },
      "source": [
        ""
      ],
      "execution_count": 0,
      "outputs": []
    },
    {
      "cell_type": "code",
      "metadata": {
        "id": "MOh0k7pS47xP",
        "colab_type": "code",
        "colab": {}
      },
      "source": [
        ""
      ],
      "execution_count": 0,
      "outputs": []
    }
  ]
}