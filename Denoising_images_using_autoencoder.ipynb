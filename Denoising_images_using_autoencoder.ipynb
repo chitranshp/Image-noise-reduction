{
  "nbformat": 4,
  "nbformat_minor": 0,
  "metadata": {
    "colab": {
      "name": "Denoising images using autoencoder.ipynb",
      "provenance": [],
      "authorship_tag": "ABX9TyPgXosHcPkjv2dhFNbK4wu6",
      "include_colab_link": true
    },
    "kernelspec": {
      "name": "python3",
      "display_name": "Python 3"
    }
  },
  "cells": [
    {
      "cell_type": "markdown",
      "metadata": {
        "id": "view-in-github",
        "colab_type": "text"
      },
      "source": [
        "<a href=\"https://colab.research.google.com/github/chitranshp/Image-noise-reduction/blob/master/Denoising_images_using_autoencoder.ipynb\" target=\"_parent\"><img src=\"https://colab.research.google.com/assets/colab-badge.svg\" alt=\"Open In Colab\"/></a>"
      ]
    },
    {
      "cell_type": "code",
      "metadata": {
        "id": "_NO0pfGr_dm5",
        "colab_type": "code",
        "colab": {}
      },
      "source": [
        "import tensorflow as tf\n",
        "import numpy as np\n",
        "from tensorflow.keras.datasets import mnist\n",
        "from matplotlib import pyplot as plt\n",
        "from tensorflow.keras.models import Sequential\n",
        "from tensorflow.keras.layers import Dense, Input\n",
        "from tensorflow.keras.callbacks import EarlyStopping, LambdaCallback\n",
        "from tensorflow.keras.utils import to_categorical\n"
      ],
      "execution_count": 0,
      "outputs": []
    },
    {
      "cell_type": "code",
      "metadata": {
        "id": "T6PI8yJu_tSY",
        "colab_type": "code",
        "colab": {}
      },
      "source": [
        "(x_train, y_train), (x_test, y_test) = mnist.load_data()\n",
        "x_train = x_train.astype('float')/255.0\n",
        "x_test = x_test.astype('float')/255.0\n",
        "\n",
        "x_train = np.reshape(x_train, (60000, 784))\n",
        "x_test = np.reshape(x_test, (10000, 784))\n"
      ],
      "execution_count": 0,
      "outputs": []
    },
    {
      "cell_type": "code",
      "metadata": {
        "id": "9cU1p1R8_0MZ",
        "colab_type": "code",
        "colab": {}
      },
      "source": [
        "x_train_noisy = x_train + np.random.rand(60000, 784) * 0.9\n",
        "x_test_noisy = x_test + np.random.rand(10000, 784) * 0.9\n",
        "x_train_noisy = np.clip(x_train_noisy, 0. , 1.)\n",
        "x_test_noisy = np.clip(x_test_noisy, 0. , 1.)"
      ],
      "execution_count": 0,
      "outputs": []
    },
    {
      "cell_type": "code",
      "metadata": {
        "id": "-sFUsUq3HNLV",
        "colab_type": "code",
        "colab": {
          "base_uri": "https://localhost:8080/",
          "height": 34
        },
        "outputId": "f75fa278-55c0-43e3-e7ab-b673bf4882f4"
      },
      "source": [
        "x_train_noisy.max()"
      ],
      "execution_count": 24,
      "outputs": [
        {
          "output_type": "execute_result",
          "data": {
            "text/plain": [
              "1.0"
            ]
          },
          "metadata": {
            "tags": []
          },
          "execution_count": 24
        }
      ]
    },
    {
      "cell_type": "code",
      "metadata": {
        "id": "leQY19cNINWc",
        "colab_type": "code",
        "colab": {}
      },
      "source": [
        "def plot(x, p, labels = False):\n",
        "  "
      ],
      "execution_count": 0,
      "outputs": []
    }
  ]
}